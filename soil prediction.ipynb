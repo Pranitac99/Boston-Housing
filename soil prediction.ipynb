{
 "cells": [
  {
   "cell_type": "code",
   "execution_count": 1,
   "metadata": {},
   "outputs": [],
   "source": [
    "import numpy as np\n",
    "import pandas as pd\n",
    "import matplotlib.pyplot as plt\n",
    "%matplotlib inline"
   ]
  },
  {
   "cell_type": "code",
   "execution_count": 23,
   "metadata": {},
   "outputs": [
    {
     "data": {
      "text/plain": [
       "'C:\\\\Users\\\\Dr CNB'"
      ]
     },
     "execution_count": 23,
     "metadata": {},
     "output_type": "execute_result"
    }
   ],
   "source": [
    "pwd"
   ]
  },
  {
   "cell_type": "code",
   "execution_count": 24,
   "metadata": {},
   "outputs": [
    {
     "data": {
      "text/html": [
       "<div>\n",
       "<style scoped>\n",
       "    .dataframe tbody tr th:only-of-type {\n",
       "        vertical-align: middle;\n",
       "    }\n",
       "\n",
       "    .dataframe tbody tr th {\n",
       "        vertical-align: top;\n",
       "    }\n",
       "\n",
       "    .dataframe thead th {\n",
       "        text-align: right;\n",
       "    }\n",
       "</style>\n",
       "<table border=\"1\" class=\"dataframe\">\n",
       "  <thead>\n",
       "    <tr style=\"text-align: right;\">\n",
       "      <th></th>\n",
       "      <th>Sample No</th>\n",
       "      <th>PH</th>\n",
       "      <th>EC</th>\n",
       "      <th>N</th>\n",
       "      <th>P</th>\n",
       "      <th>K</th>\n",
       "      <th>Avg Rain</th>\n",
       "      <th>Max Temp</th>\n",
       "      <th>Min Temp</th>\n",
       "      <th>quality</th>\n",
       "    </tr>\n",
       "  </thead>\n",
       "  <tbody>\n",
       "    <tr>\n",
       "      <th>0</th>\n",
       "      <td>1005</td>\n",
       "      <td>6.50</td>\n",
       "      <td>0.16</td>\n",
       "      <td>189.0</td>\n",
       "      <td>55.76</td>\n",
       "      <td>150</td>\n",
       "      <td>1009.5</td>\n",
       "      <td>36</td>\n",
       "      <td>23</td>\n",
       "      <td>7</td>\n",
       "    </tr>\n",
       "    <tr>\n",
       "      <th>1</th>\n",
       "      <td>1006</td>\n",
       "      <td>7.77</td>\n",
       "      <td>0.25</td>\n",
       "      <td>214.0</td>\n",
       "      <td>27.33</td>\n",
       "      <td>174</td>\n",
       "      <td>1009.5</td>\n",
       "      <td>36</td>\n",
       "      <td>23</td>\n",
       "      <td>7</td>\n",
       "    </tr>\n",
       "    <tr>\n",
       "      <th>2</th>\n",
       "      <td>1007</td>\n",
       "      <td>8.08</td>\n",
       "      <td>0.33</td>\n",
       "      <td>91.0</td>\n",
       "      <td>46.25</td>\n",
       "      <td>124</td>\n",
       "      <td>1009.5</td>\n",
       "      <td>36</td>\n",
       "      <td>23</td>\n",
       "      <td>7</td>\n",
       "    </tr>\n",
       "    <tr>\n",
       "      <th>3</th>\n",
       "      <td>1008</td>\n",
       "      <td>7.51</td>\n",
       "      <td>0.51</td>\n",
       "      <td>147.0</td>\n",
       "      <td>37.60</td>\n",
       "      <td>145</td>\n",
       "      <td>1009.5</td>\n",
       "      <td>36</td>\n",
       "      <td>23</td>\n",
       "      <td>7</td>\n",
       "    </tr>\n",
       "    <tr>\n",
       "      <th>4</th>\n",
       "      <td>1009</td>\n",
       "      <td>7.70</td>\n",
       "      <td>0.10</td>\n",
       "      <td>133.0</td>\n",
       "      <td>34.00</td>\n",
       "      <td>123</td>\n",
       "      <td>1009.5</td>\n",
       "      <td>36</td>\n",
       "      <td>23</td>\n",
       "      <td>7</td>\n",
       "    </tr>\n",
       "  </tbody>\n",
       "</table>\n",
       "</div>"
      ],
      "text/plain": [
       "   Sample No    PH    EC      N      P    K  Avg Rain  Max Temp  Min Temp  \\\n",
       "0       1005  6.50  0.16  189.0  55.76  150    1009.5        36        23   \n",
       "1       1006  7.77  0.25  214.0  27.33  174    1009.5        36        23   \n",
       "2       1007  8.08  0.33   91.0  46.25  124    1009.5        36        23   \n",
       "3       1008  7.51  0.51  147.0  37.60  145    1009.5        36        23   \n",
       "4       1009  7.70  0.10  133.0  34.00  123    1009.5        36        23   \n",
       "\n",
       "   quality  \n",
       "0        7  \n",
       "1        7  \n",
       "2        7  \n",
       "3        7  \n",
       "4        7  "
      ]
     },
     "execution_count": 24,
     "metadata": {},
     "output_type": "execute_result"
    }
   ],
   "source": [
    "#Loading dataset\n",
    "soil = pd.read_csv(r\"C:\\Users\\Dr CNB\\Desktop\\phds.csv\")\n",
    "soil.head()"
   ]
  },
  {
   "cell_type": "code",
   "execution_count": 25,
   "metadata": {},
   "outputs": [
    {
     "name": "stdout",
     "output_type": "stream",
     "text": [
      "<class 'pandas.core.frame.DataFrame'>\n",
      "RangeIndex: 99 entries, 0 to 98\n",
      "Data columns (total 10 columns):\n",
      "Sample No    99 non-null int64\n",
      "PH           99 non-null float64\n",
      "EC           99 non-null float64\n",
      "N            99 non-null float64\n",
      "P            99 non-null float64\n",
      "K            99 non-null int64\n",
      "Avg Rain     99 non-null float64\n",
      "Max Temp     99 non-null int64\n",
      "Min Temp     99 non-null int64\n",
      "quality      99 non-null int64\n",
      "dtypes: float64(5), int64(5)\n",
      "memory usage: 7.8 KB\n"
     ]
    }
   ],
   "source": [
    "soil.info()"
   ]
  },
  {
   "cell_type": "code",
   "execution_count": 26,
   "metadata": {},
   "outputs": [],
   "source": [
    "X = soil.iloc[:,:-1].values # independent variable\n",
    "y = soil.iloc[:,-1].values # dependent variable"
   ]
  },
  {
   "cell_type": "code",
   "execution_count": 27,
   "metadata": {},
   "outputs": [],
   "source": [
    "plt.style.use('fivethirtyeight')"
   ]
  },
  {
   "cell_type": "code",
   "execution_count": 28,
   "metadata": {},
   "outputs": [
    {
     "data": {
      "text/plain": [
       "Index(['Sample No', 'PH', 'EC', 'N', 'P', 'K', 'Avg Rain', 'Max Temp',\n",
       "       'Min Temp', 'quality'],\n",
       "      dtype='object')"
      ]
     },
     "execution_count": 28,
     "metadata": {},
     "output_type": "execute_result"
    }
   ],
   "source": [
    "soil.columns"
   ]
  },
  {
   "cell_type": "code",
   "execution_count": 38,
   "metadata": {},
   "outputs": [
    {
     "data": {
      "image/png": "[encoded data removed]",
      "text/plain": [
       "<Figure size 1296x720 with 1 Axes>"
      ]
     },
     "metadata": {},
     "output_type": "display_data"
    }
   ],
   "source": [
    "fig = plt.figure(figsize=(18,10))\n",
    "plt.boxplot(X, vert = False,labels= [ 'Sample No','PH', 'EC','N', 'P', 'K', 'Avg Rain','Max Temp', 'Min Temp'], patch_artist=True)\n",
    "plt.show()"
   ]
  },
  {
   "cell_type": "code",
   "execution_count": 30,
   "metadata": {},
   "outputs": [],
   "source": [
    "corr = soil.corr()"
   ]
  },
  {
   "cell_type": "code",
   "execution_count": 31,
   "metadata": {},
   "outputs": [],
   "source": [
    "import seaborn as sns"
   ]
  },
  {
   "cell_type": "code",
   "execution_count": 32,
   "metadata": {},
   "outputs": [
    {
     "data": {
      "image/png": "[encoded data removed]",
      "text/plain": [
       "<Figure size 1080x720 with 2 Axes>"
      ]
     },
     "metadata": {},
     "output_type": "display_data"
    }
   ],
   "source": [
    "plt.figure(figsize = (15,10))\n",
    "sns.heatmap(corr,annot = True,cmap = 'Set1')\n",
    "plt.show()"
   ]
  },
  {
   "cell_type": "code",
   "execution_count": 33,
   "metadata": {},
   "outputs": [],
   "source": [
    "from sklearn.preprocessing import MinMaxScaler"
   ]
  },
  {
   "cell_type": "code",
   "execution_count": 34,
   "metadata": {},
   "outputs": [],
   "source": [
    "sc = MinMaxScaler(feature_range=(0,1))"
   ]
  },
  {
   "cell_type": "code",
   "execution_count": 35,
   "metadata": {},
   "outputs": [
    {
     "data": {
      "text/plain": [
       "array([[0.00000000e+00, 3.28293737e-01, 2.03703704e-01, 3.19634703e-01,\n",
       "        2.53115900e-01, 1.79084967e-01, 1.00000000e+00, 0.00000000e+00,\n",
       "        0.00000000e+00],\n",
       "       [8.14995925e-04, 6.02591793e-01, 3.70370370e-01, 3.95738204e-01,\n",
       "        8.75364007e-02, 2.10457516e-01, 1.00000000e+00, 0.00000000e+00,\n",
       "        0.00000000e+00],\n",
       "       [1.62999185e-03, 6.69546436e-01, 5.18518519e-01, 2.13089802e-02,\n",
       "        1.97728596e-01, 1.45098039e-01, 1.00000000e+00, 0.00000000e+00,\n",
       "        0.00000000e+00],\n",
       "       [2.44498778e-03, 5.46436285e-01, 8.51851852e-01, 1.91780822e-01,\n",
       "        1.47350029e-01, 1.72549020e-01, 1.00000000e+00, 0.00000000e+00,\n",
       "        0.00000000e+00],\n",
       "       [3.25998370e-03, 5.87473002e-01, 9.25925926e-02, 1.49162861e-01,\n",
       "        1.26383227e-01, 1.43790850e-01, 1.00000000e+00, 0.00000000e+00,\n",
       "        0.00000000e+00],\n",
       "       [4.00977995e-01, 6.45788337e-01, 6.11111111e-01, 3.19634703e-01,\n",
       "        1.00000000e+00, 8.28758170e-01, 1.00000000e+00, 0.00000000e+00,\n",
       "        0.00000000e+00],\n",
       "       [4.01792991e-01, 7.21382289e-01, 1.11111111e-01, 0.00000000e+00,\n",
       "        4.64181712e-01, 3.41176471e-01, 1.00000000e+00, 0.00000000e+00,\n",
       "        0.00000000e+00],\n",
       "       [4.02607987e-01, 7.51619870e-01, 1.11111111e-01, 3.19634703e-01,\n",
       "        4.99126383e-01, 7.62091503e-01, 1.00000000e+00, 0.00000000e+00,\n",
       "        0.00000000e+00],\n",
       "       [4.03422983e-01, 6.58747300e-01, 3.33333333e-01, 3.19634703e-01,\n",
       "        1.00000000e+00, 8.28758170e-01, 1.00000000e+00, 0.00000000e+00,\n",
       "        0.00000000e+00],\n",
       "       [4.04237979e-01, 6.43628510e-01, 4.25925926e-01, 4.90106545e-01,\n",
       "        2.48689575e-01, 2.39215686e-01, 1.00000000e+00, 0.00000000e+00,\n",
       "        0.00000000e+00],\n",
       "       [4.05052975e-01, 5.39956803e-01, 0.00000000e+00, 8.52359209e-02,\n",
       "        7.02970297e-01, 2.23529412e-01, 1.00000000e+00, 0.00000000e+00,\n",
       "        0.00000000e+00],\n",
       "       [4.31132844e-01, 6.73866091e-01, 2.03703704e-01, 2.70928463e-01,\n",
       "        1.26383227e-01, 1.68627451e-01, 1.00000000e+00, 0.00000000e+00,\n",
       "        0.00000000e+00],\n",
       "       [4.31947840e-01, 6.30669546e-01, 2.59259259e-01, 2.07001522e-01,\n",
       "        1.20559115e-01, 3.60784314e-01, 1.00000000e+00, 0.00000000e+00,\n",
       "        0.00000000e+00],\n",
       "       [4.71067645e-01, 7.55939525e-01, 2.59259259e-01, 6.02739726e-01,\n",
       "        2.07920792e-01, 0.00000000e+00, 1.00000000e+00, 0.00000000e+00,\n",
       "        0.00000000e+00],\n",
       "       [4.84922575e-01, 7.19222462e-01, 9.25925926e-02, 1.49162861e-01,\n",
       "        3.90215492e-02, 1.18954248e-01, 1.00000000e+00, 0.00000000e+00,\n",
       "        0.00000000e+00],\n",
       "       [4.96332518e-01, 6.99784017e-01, 5.74074074e-01, 3.40943683e-01,\n",
       "        2.71986022e-01, 2.20915033e-01, 1.00000000e+00, 0.00000000e+00,\n",
       "        0.00000000e+00],\n",
       "       [6.44661777e-01, 8.18574514e-01, 1.85185185e-02, 6.08828006e-02,\n",
       "        7.97903320e-02, 3.49019608e-01, 1.00000000e+00, 0.00000000e+00,\n",
       "        0.00000000e+00],\n",
       "       [6.45476773e-01, 8.25053996e-01, 2.96296296e-01, 1.09589041e-01,\n",
       "        2.48689575e-01, 3.16339869e-01, 1.00000000e+00, 0.00000000e+00,\n",
       "        0.00000000e+00],\n",
       "       [6.46291769e-01, 8.03455724e-01, 1.85185185e-02, 3.10502283e-01,\n",
       "        3.82644147e-01, 2.07843137e-01, 1.00000000e+00, 0.00000000e+00,\n",
       "        0.00000000e+00],\n",
       "       [7.52241239e-01, 7.14902808e-01, 4.25925926e-01, 8.17351598e-01,\n",
       "        1.96272568e-01, 1.00000000e+00, 1.00000000e+00, 0.00000000e+00,\n",
       "        0.00000000e+00],\n",
       "       [7.53056235e-01, 6.82505400e-01, 1.00000000e+00, 1.00000000e+00,\n",
       "        8.56144438e-02, 4.92810458e-01, 1.00000000e+00, 0.00000000e+00,\n",
       "        0.00000000e+00],\n",
       "       [9.75550122e-01, 7.27861771e-01, 2.22222222e-01, 3.83561644e-01,\n",
       "        0.00000000e+00, 4.00000000e-01, 1.00000000e+00, 0.00000000e+00,\n",
       "        0.00000000e+00],\n",
       "       [9.76365118e-01, 7.88336933e-01, 4.25925926e-01, 4.74885845e-01,\n",
       "        6.40652301e-03, 3.60784314e-01, 1.00000000e+00, 0.00000000e+00,\n",
       "        0.00000000e+00],\n",
       "       [9.77180114e-01, 8.03455724e-01, 3.14814815e-01, 4.80974125e-01,\n",
       "        6.98893419e-03, 4.53594771e-01, 1.00000000e+00, 0.00000000e+00,\n",
       "        0.00000000e+00],\n",
       "       [9.77180114e-01, 7.17062635e-01, 3.14814815e-01, 4.80974125e-01,\n",
       "        6.98893419e-03, 4.53594771e-01, 8.45466156e-01, 0.00000000e+00,\n",
       "        0.00000000e+00],\n",
       "       [9.77180114e-01, 2.59179266e-02, 9.25925926e-02, 1.49162861e-01,\n",
       "        3.90215492e-02, 1.18954248e-01, 8.45466156e-01, 0.00000000e+00,\n",
       "        0.00000000e+00],\n",
       "       [9.77180114e-01, 3.28293737e-01, 2.03703704e-01, 3.19634703e-01,\n",
       "        2.53115900e-01, 1.79084967e-01, 0.00000000e+00, 0.00000000e+00,\n",
       "        0.00000000e+00],\n",
       "       [9.77180114e-01, 6.09071274e-01, 4.25925926e-01, 4.90106545e-01,\n",
       "        2.48689575e-01, 2.39215686e-01, 0.00000000e+00, 0.00000000e+00,\n",
       "        0.00000000e+00],\n",
       "       [9.77180114e-01, 6.30669546e-01, 2.03703704e-01, 2.70928463e-01,\n",
       "        2.48689575e-01, 2.39215686e-01, 3.24393359e-01, 0.00000000e+00,\n",
       "        0.00000000e+00],\n",
       "       [9.77180114e-01, 6.73866091e-01, 2.03703704e-01, 2.70928463e-01,\n",
       "        1.26383227e-01, 1.68627451e-01, 3.24393359e-01, 0.00000000e+00,\n",
       "        0.00000000e+00],\n",
       "       [9.77180114e-01, 4.14686825e-01, 2.03703704e-01, 2.70928463e-01,\n",
       "        1.26383227e-01, 1.68627451e-01, 8.17369093e-01, 0.00000000e+00,\n",
       "        0.00000000e+00],\n",
       "       [9.77180114e-01, 5.87473002e-01, 9.25925926e-02, 1.49162861e-01,\n",
       "        1.26383227e-01, 1.43790850e-01, 8.17369093e-01, 0.00000000e+00,\n",
       "        0.00000000e+00],\n",
       "       [9.77180114e-01, 4.36285097e-01, 8.33333333e-01, 4.23135464e-01,\n",
       "        6.06290041e-02, 2.54901961e-01, 5.71902937e-01, 0.00000000e+00,\n",
       "        0.00000000e+00],\n",
       "       [9.77180114e-01, 3.93088553e-01, 8.33333333e-01, 4.23135464e-01,\n",
       "        6.06290041e-02, 2.54901961e-01, 5.71902937e-01, 0.00000000e+00,\n",
       "        0.00000000e+00],\n",
       "       [9.79625102e-01, 7.17062635e-01, 8.33333333e-01, 4.23135464e-01,\n",
       "        6.06290041e-02, 2.54901961e-01, 8.45466156e-01, 0.00000000e+00,\n",
       "        0.00000000e+00],\n",
       "       [9.79625102e-01, 6.95464363e-01, 5.18518519e-01, 3.59208524e-01,\n",
       "        4.24577752e-02, 2.37908497e-01, 8.45466156e-01, 0.00000000e+00,\n",
       "        0.00000000e+00],\n",
       "       [9.79625102e-01, 6.86825054e-01, 5.18518519e-01, 2.98325723e-01,\n",
       "        4.64764123e-02, 2.32679739e-01, 8.45466156e-01, 0.00000000e+00,\n",
       "        0.00000000e+00],\n",
       "       [9.79625102e-01, 6.69546436e-01, 6.66666667e-01, 3.07458143e-01,\n",
       "        5.90564939e-02, 2.53594771e-01, 8.45466156e-01, 0.00000000e+00,\n",
       "        0.00000000e+00],\n",
       "       [9.79625102e-01, 7.17062635e-01, 6.29629630e-01, 2.77016743e-01,\n",
       "        7.08211998e-02, 2.35294118e-01, 8.45466156e-01, 0.00000000e+00,\n",
       "        0.00000000e+00],\n",
       "       [9.79625102e-01, 7.42980562e-01, 4.62962963e-01, 2.95281583e-01,\n",
       "        6.27839255e-02, 1.94771242e-01, 8.45466156e-01, 0.00000000e+00,\n",
       "        0.00000000e+00],\n",
       "       [9.79625102e-01, 7.25701944e-01, 3.51851852e-01, 3.43987823e-01,\n",
       "        5.29994176e-03, 3.15032680e-01, 8.45466156e-01, 0.00000000e+00,\n",
       "        0.00000000e+00],\n",
       "       [9.79625102e-01, 6.86825054e-01, 2.22222222e-01, 2.89193303e-01,\n",
       "        9.14385556e-02, 2.13071895e-01, 8.45466156e-01, 0.00000000e+00,\n",
       "        0.00000000e+00],\n",
       "       [9.79625102e-01, 2.95896328e-01, 2.03703704e-01, 3.53120244e-01,\n",
       "        2.67384974e-01, 3.88235294e-01, 8.45466156e-01, 0.00000000e+00,\n",
       "        0.00000000e+00],\n",
       "       [9.89405053e-01, 3.90928726e-01, 2.03703704e-01, 3.53120244e-01,\n",
       "        2.67384974e-01, 3.88235294e-01, 1.00000000e+00, 0.00000000e+00,\n",
       "        0.00000000e+00],\n",
       "       [9.89405053e-01, 4.92440605e-01, 2.03703704e-01, 3.19634703e-01,\n",
       "        2.53115900e-01, 1.90849673e-01, 1.00000000e+00, 0.00000000e+00,\n",
       "        0.00000000e+00],\n",
       "       [9.89405053e-01, 4.34125270e-01, 2.03703704e-01, 3.19634703e-01,\n",
       "        2.53115900e-01, 1.90849673e-01, 1.00000000e+00, 0.00000000e+00,\n",
       "        0.00000000e+00],\n",
       "       [9.89405053e-01, 1.40388769e-01, 8.33333333e-01, 4.23135464e-01,\n",
       "        6.06290041e-02, 2.54901961e-01, 1.00000000e+00, 0.00000000e+00,\n",
       "        0.00000000e+00],\n",
       "       [9.89405053e-01, 2.39740821e-01, 5.18518519e-01, 3.59208524e-01,\n",
       "        4.24577752e-02, 2.37908497e-01, 1.00000000e+00, 0.00000000e+00,\n",
       "        0.00000000e+00],\n",
       "       [9.90220049e-01, 5.44276458e-01, 2.03703704e-01, 3.53120244e-01,\n",
       "        2.67384974e-01, 3.88235294e-01, 1.00000000e+00, 0.00000000e+00,\n",
       "        0.00000000e+00],\n",
       "       [1.00000000e+00, 8.18574514e-01, 2.03703704e-01, 3.19634703e-01,\n",
       "        2.53115900e-01, 1.90849673e-01, 1.00000000e+00, 0.00000000e+00,\n",
       "        0.00000000e+00],\n",
       "       [1.00000000e+00, 6.52267819e-01, 2.03703704e-01, 3.53120244e-01,\n",
       "        2.67384974e-01, 3.88235294e-01, 1.00000000e+00, 0.00000000e+00,\n",
       "        0.00000000e+00],\n",
       "       [1.00000000e+00, 4.25485961e-01, 2.03703704e-01, 3.19634703e-01,\n",
       "        2.53115900e-01, 1.43790850e-01, 1.00000000e+00, 0.00000000e+00,\n",
       "        0.00000000e+00],\n",
       "       [1.00000000e+00, 4.62203024e-01, 2.03703704e-01, 3.53120244e-01,\n",
       "        2.67384974e-01, 3.88235294e-01, 1.00000000e+00, 0.00000000e+00,\n",
       "        0.00000000e+00],\n",
       "       [1.00000000e+00, 7.06263499e-01, 2.03703704e-01, 3.19634703e-01,\n",
       "        2.53115900e-01, 1.43790850e-01, 1.00000000e+00, 0.00000000e+00,\n",
       "        0.00000000e+00],\n",
       "       [1.00000000e+00, 7.21382289e-01, 2.03703704e-01, 3.19634703e-01,\n",
       "        2.53115900e-01, 1.43790850e-01, 1.00000000e+00, 0.00000000e+00,\n",
       "        0.00000000e+00],\n",
       "       [1.00000000e+00, 8.92008639e-01, 2.03703704e-01, 3.53120244e-01,\n",
       "        2.67384974e-01, 3.88235294e-01, 8.81226054e-01, 0.00000000e+00,\n",
       "        0.00000000e+00],\n",
       "       [1.00000000e+00, 8.55291577e-01, 2.03703704e-01, 3.53120244e-01,\n",
       "        2.67384974e-01, 3.88235294e-01, 8.81226054e-01, 0.00000000e+00,\n",
       "        0.00000000e+00],\n",
       "       [1.00000000e+00, 4.94600432e-01, 2.03703704e-01, 3.19634703e-01,\n",
       "        2.53115900e-01, 1.43790850e-01, 8.81226054e-01, 0.00000000e+00,\n",
       "        0.00000000e+00],\n",
       "       [1.00000000e+00, 3.52051836e-01, 2.03703704e-01, 3.53120244e-01,\n",
       "        2.67384974e-01, 3.88235294e-01, 8.81226054e-01, 0.00000000e+00,\n",
       "        0.00000000e+00],\n",
       "       [1.00000000e+00, 9.22246220e-01, 2.03703704e-01, 3.19634703e-01,\n",
       "        2.52591730e-01, 1.43790850e-01, 8.81226054e-01, 0.00000000e+00,\n",
       "        0.00000000e+00],\n",
       "       [1.00000000e+00, 1.94384449e-02, 8.33333333e-01, 4.23135464e-01,\n",
       "        6.06290041e-02, 2.54901961e-01, 8.81226054e-01, 0.00000000e+00,\n",
       "        0.00000000e+00],\n",
       "       [1.00000000e+00, 5.26997840e-01, 2.03703704e-01, 3.53120244e-01,\n",
       "        2.67384974e-01, 3.88235294e-01, 8.81226054e-01, 0.00000000e+00,\n",
       "        0.00000000e+00],\n",
       "       [1.00000000e+00, 8.40172786e-01, 2.03703704e-01, 3.19634703e-01,\n",
       "        2.52591730e-01, 1.43790850e-01, 8.81226054e-01, 0.00000000e+00,\n",
       "        0.00000000e+00],\n",
       "       [1.00000000e+00, 0.00000000e+00, 9.25925926e-02, 1.49162861e-01,\n",
       "        3.90215492e-02, 1.18954248e-01, 8.81226054e-01, 0.00000000e+00,\n",
       "        0.00000000e+00],\n",
       "       [1.00000000e+00, 1.92224622e-01, 2.03703704e-01, 3.19634703e-01,\n",
       "        2.52591730e-01, 1.43790850e-01, 8.81226054e-01, 0.00000000e+00,\n",
       "        0.00000000e+00],\n",
       "       [1.00000000e+00, 1.00000000e+00, 2.22222222e-01, 3.83561644e-01,\n",
       "        0.00000000e+00, 4.00000000e-01, 8.81226054e-01, 0.00000000e+00,\n",
       "        0.00000000e+00],\n",
       "       [1.00000000e+00, 4.79481641e-01, 2.59259259e-01, 6.02739726e-01,\n",
       "        2.07920792e-01, 0.00000000e+00, 8.81226054e-01, 0.00000000e+00,\n",
       "        0.00000000e+00],\n",
       "       [1.00000000e+00, 7.92656587e-01, 2.22222222e-01, 3.83561644e-01,\n",
       "        0.00000000e+00, 4.00000000e-01, 8.81226054e-01, 0.00000000e+00,\n",
       "        0.00000000e+00],\n",
       "       [1.00000000e+00, 4.08207343e-01, 2.59259259e-01, 6.02739726e-01,\n",
       "        2.07920792e-01, 0.00000000e+00, 8.81226054e-01, 0.00000000e+00,\n",
       "        0.00000000e+00],\n",
       "       [1.00000000e+00, 8.68250540e-01, 8.33333333e-01, 4.23135464e-01,\n",
       "        6.06290041e-02, 2.54901961e-01, 8.81226054e-01, 0.00000000e+00,\n",
       "        0.00000000e+00],\n",
       "       [1.00000000e+00, 5.05399568e-01, 8.33333333e-01, 4.23135464e-01,\n",
       "        6.06290041e-02, 2.54901961e-01, 8.81226054e-01, 0.00000000e+00,\n",
       "        0.00000000e+00],\n",
       "       [1.00000000e+00, 6.11231102e-01, 2.59259259e-01, 6.02739726e-01,\n",
       "        2.07920792e-01, 0.00000000e+00, 8.81226054e-01, 0.00000000e+00,\n",
       "        0.00000000e+00],\n",
       "       [1.00000000e+00, 6.67386609e-01, 8.33333333e-01, 4.23135464e-01,\n",
       "        6.06290041e-02, 2.54901961e-01, 8.81226054e-01, 0.00000000e+00,\n",
       "        0.00000000e+00],\n",
       "       [1.00000000e+00, 4.31965443e-01, 2.59259259e-01, 6.02739726e-01,\n",
       "        2.07920792e-01, 0.00000000e+00, 8.81226054e-01, 0.00000000e+00,\n",
       "        0.00000000e+00],\n",
       "       [1.00000000e+00, 9.07127430e-02, 8.33333333e-01, 4.23135464e-01,\n",
       "        6.06290041e-02, 2.54901961e-01, 8.81226054e-01, 0.00000000e+00,\n",
       "        0.00000000e+00],\n",
       "       [1.00000000e+00, 9.61123110e-01, 8.33333333e-01, 4.23135464e-01,\n",
       "        6.06290041e-02, 2.54901961e-01, 8.81226054e-01, 0.00000000e+00,\n",
       "        0.00000000e+00],\n",
       "       [1.00000000e+00, 2.20302376e-01, 8.33333333e-01, 4.23135464e-01,\n",
       "        6.06290041e-02, 2.54901961e-01, 8.81226054e-01, 0.00000000e+00,\n",
       "        0.00000000e+00],\n",
       "       [1.00000000e+00, 5.01079914e-01, 8.33333333e-01, 4.23135464e-01,\n",
       "        6.06290041e-02, 2.54901961e-01, 8.81226054e-01, 0.00000000e+00,\n",
       "        0.00000000e+00],\n",
       "       [1.00000000e+00, 7.30021598e-01, 5.18518519e-01, 3.59208524e-01,\n",
       "        4.24577752e-02, 2.37908497e-01, 8.81226054e-01, 0.00000000e+00,\n",
       "        0.00000000e+00],\n",
       "       [1.00000000e+00, 2.15982721e-01, 5.18518519e-01, 3.59208524e-01,\n",
       "        4.24577752e-02, 2.37908497e-01, 8.81226054e-01, 0.00000000e+00,\n",
       "        0.00000000e+00],\n",
       "       [1.00000000e+00, 8.72570194e-01, 3.70370370e-01, 3.95738204e-01,\n",
       "        8.75364007e-02, 2.10457516e-01, 8.81226054e-01, 0.00000000e+00,\n",
       "        0.00000000e+00],\n",
       "       [1.00000000e+00, 2.69978402e-01, 4.25925926e-01, 8.17351598e-01,\n",
       "        1.96272568e-01, 9.97385621e-01, 8.81226054e-01, 0.00000000e+00,\n",
       "        0.00000000e+00],\n",
       "       [1.00000000e+00, 3.36933045e-01, 4.25925926e-01, 8.17351598e-01,\n",
       "        1.96272568e-01, 9.97385621e-01, 8.81226054e-01, 0.00000000e+00,\n",
       "        0.00000000e+00],\n",
       "       [9.77180114e-01, 5.09719222e-01, 4.25925926e-01, 8.17351598e-01,\n",
       "        1.96272568e-01, 9.97385621e-01, 8.81226054e-01, 0.00000000e+00,\n",
       "        0.00000000e+00],\n",
       "       [9.77180114e-01, 3.65010799e-01, 5.18518519e-01, 3.59208524e-01,\n",
       "        4.24577752e-02, 2.37908497e-01, 8.81226054e-01, 0.00000000e+00,\n",
       "        0.00000000e+00],\n",
       "       [9.77180114e-01, 6.82505400e-01, 2.22222222e-01, 2.89193303e-01,\n",
       "        9.14385556e-02, 2.13071895e-01, 8.81226054e-01, 0.00000000e+00,\n",
       "        0.00000000e+00],\n",
       "       [9.77180114e-01, 2.63498920e-01, 3.70370370e-01, 3.95738204e-01,\n",
       "        8.75364007e-02, 2.10457516e-01, 8.81226054e-01, 0.00000000e+00,\n",
       "        0.00000000e+00],\n",
       "       [9.77180114e-01, 9.37365011e-01, 3.70370370e-01, 3.95738204e-01,\n",
       "        8.75364007e-02, 2.10457516e-01, 8.81226054e-01, 0.00000000e+00,\n",
       "        0.00000000e+00],\n",
       "       [9.77180114e-01, 5.31317495e-01, 5.18518519e-01, 3.59208524e-01,\n",
       "        4.24577752e-02, 2.37908497e-01, 8.81226054e-01, 0.00000000e+00,\n",
       "        0.00000000e+00],\n",
       "       [9.77180114e-01, 2.18142549e-01, 8.33333333e-01, 4.23135464e-01,\n",
       "        6.06290041e-02, 2.54901961e-01, 8.81226054e-01, 0.00000000e+00,\n",
       "        0.00000000e+00],\n",
       "       [9.77180114e-01, 6.91144708e-01, 8.33333333e-01, 4.23135464e-01,\n",
       "        6.06290041e-02, 2.54901961e-01, 8.81226054e-01, 0.00000000e+00,\n",
       "        0.00000000e+00],\n",
       "       [9.77180114e-01, 7.53779698e-01, 2.22222222e-01, 2.89193303e-01,\n",
       "        9.14385556e-02, 2.13071895e-01, 8.81226054e-01, 0.00000000e+00,\n",
       "        0.00000000e+00],\n",
       "       [9.77180114e-01, 6.47948164e-01, 3.70370370e-01, 3.95738204e-01,\n",
       "        8.75364007e-02, 2.10457516e-01, 8.81226054e-01, 0.00000000e+00,\n",
       "        0.00000000e+00],\n",
       "       [9.77180114e-01, 9.22246220e-01, 3.70370370e-01, 3.95738204e-01,\n",
       "        8.75364007e-02, 2.10457516e-01, 8.81226054e-01, 0.00000000e+00,\n",
       "        0.00000000e+00],\n",
       "       [9.77180114e-01, 3.15334773e-01, 8.33333333e-01, 4.23135464e-01,\n",
       "        6.06290041e-02, 2.54901961e-01, 8.81226054e-01, 0.00000000e+00,\n",
       "        0.00000000e+00],\n",
       "       [9.77180114e-01, 4.92440605e-01, 8.33333333e-01, 4.23135464e-01,\n",
       "        6.06290041e-02, 2.54901961e-01, 8.81226054e-01, 0.00000000e+00,\n",
       "        0.00000000e+00],\n",
       "       [9.77180114e-01, 8.20734341e-01, 2.22222222e-01, 2.89193303e-01,\n",
       "        9.14385556e-02, 2.13071895e-01, 8.81226054e-01, 0.00000000e+00,\n",
       "        0.00000000e+00],\n",
       "       [9.77180114e-01, 3.88768898e-01, 3.70370370e-01, 3.95738204e-01,\n",
       "        8.75364007e-02, 2.10457516e-01, 8.81226054e-01, 0.00000000e+00,\n",
       "        0.00000000e+00],\n",
       "       [9.77180114e-01, 6.06911447e-01, 3.70370370e-01, 3.95738204e-01,\n",
       "        8.75364007e-02, 2.10457516e-01, 8.81226054e-01, 0.00000000e+00,\n",
       "        0.00000000e+00]])"
      ]
     },
     "execution_count": 35,
     "metadata": {},
     "output_type": "execute_result"
    }
   ],
   "source": [
    "X_new = sc.fit_transform(X)\n",
    "X_new"
   ]
  },
  {
   "cell_type": "code",
   "execution_count": 36,
   "metadata": {},
   "outputs": [
    {
     "data": {
      "text/plain": [
       "array([0.        , 0.32829374, 0.2037037 , 0.3196347 , 0.2531159 ,\n",
       "       0.17908497, 1.        , 0.        , 0.        ])"
      ]
     },
     "execution_count": 36,
     "metadata": {},
     "output_type": "execute_result"
    }
   ],
   "source": [
    "X_new[0]"
   ]
  },
  {
   "cell_type": "code",
   "execution_count": 37,
   "metadata": {},
   "outputs": [
    {
     "data": {
      "image/png": "[encoded data removed]",
      "text/plain": [
       "<Figure size 1080x720 with 1 Axes>"
      ]
     },
     "metadata": {},
     "output_type": "display_data"
    }
   ],
   "source": [
    "fig = plt.figure(figsize=(15,10))\n",
    "plt.boxplot(X_new, vert = False,labels= ['Sample No','PH', 'EC','N', 'P', 'K', 'Avg Rain','Max Temp', 'Min Temp'], patch_artist=True)\n",
    "plt.show()"
   ]
  },
  {
   "cell_type": "code",
   "execution_count": 39,
   "metadata": {},
   "outputs": [],
   "source": [
    "mx = sc.data_max_\n",
    "mn = sc.data_min_"
   ]
  },
  {
   "cell_type": "code",
   "execution_count": 40,
   "metadata": {},
   "outputs": [],
   "source": [
    "np.savez('scale.npz',mn,mx)"
   ]
  },
  {
   "cell_type": "code",
   "execution_count": 41,
   "metadata": {},
   "outputs": [
    {
     "name": "stdout",
     "output_type": "stream",
     "text": [
      "[2.2320e+03 9.6100e+00 5.9000e-01 4.1250e+02 1.8400e+02 7.7800e+02\n",
      " 1.0095e+03 3.6000e+01 2.3000e+01]\n",
      "[1.005e+03 4.980e+00 5.000e-02 8.400e+01 1.230e+01 1.300e+01 6.180e+02\n",
      " 3.600e+01 2.300e+01]\n"
     ]
    }
   ],
   "source": [
    "print(mx)\n",
    "print(mn)"
   ]
  },
  {
   "cell_type": "code",
   "execution_count": 46,
   "metadata": {},
   "outputs": [],
   "source": [
    "from sklearn.model_selection import train_test_split"
   ]
  },
  {
   "cell_type": "code",
   "execution_count": 47,
   "metadata": {},
   "outputs": [],
   "source": [
    "x_train, x_test, y_train, y_test = train_test_split(X_new,y, test_size = 0.2,\n",
    "                                                   random_state =0)"
   ]
  },
  {
   "cell_type": "code",
   "execution_count": 48,
   "metadata": {},
   "outputs": [
    {
     "data": {
      "text/plain": [
       "((79, 9), (79,), (20, 9), (20,))"
      ]
     },
     "execution_count": 48,
     "metadata": {},
     "output_type": "execute_result"
    }
   ],
   "source": [
    "x_train.shape, y_train.shape, x_test.shape, y_test.shape"
   ]
  },
  {
   "cell_type": "code",
   "execution_count": 49,
   "metadata": {},
   "outputs": [],
   "source": [
    "from sklearn.tree import DecisionTreeClassifier\n",
    "from sklearn.ensemble import RandomForestClassifier"
   ]
  },
  {
   "cell_type": "code",
   "execution_count": 50,
   "metadata": {},
   "outputs": [],
   "source": [
    "model_dt = DecisionTreeClassifier()\n",
    "model_rf = RandomForestClassifier(n_estimators=100)"
   ]
  },
  {
   "cell_type": "code",
   "execution_count": 51,
   "metadata": {},
   "outputs": [
    {
     "data": {
      "text/plain": [
       "RandomForestClassifier(bootstrap=True, class_weight=None, criterion='gini',\n",
       "            max_depth=None, max_features='auto', max_leaf_nodes=None,\n",
       "            min_impurity_decrease=0.0, min_impurity_split=None,\n",
       "            min_samples_leaf=1, min_samples_split=2,\n",
       "            min_weight_fraction_leaf=0.0, n_estimators=100, n_jobs=None,\n",
       "            oob_score=False, random_state=None, verbose=0,\n",
       "            warm_start=False)"
      ]
     },
     "execution_count": 51,
     "metadata": {},
     "output_type": "execute_result"
    }
   ],
   "source": [
    "model_dt.fit(x_train, y_train) # training model\n",
    "model_rf.fit(x_train, y_train) # training model"
   ]
  },
  {
   "cell_type": "code",
   "execution_count": 52,
   "metadata": {},
   "outputs": [],
   "source": [
    "y_pred_dt = model_dt.predict(x_test) # we use this for evaluation\n",
    "y_pred_rf = model_rf.predict(x_test) # we use this for evaluation"
   ]
  },
  {
   "cell_type": "code",
   "execution_count": 53,
   "metadata": {},
   "outputs": [],
   "source": [
    "from sklearn.metrics import confusion_matrix, classification_report"
   ]
  },
  {
   "cell_type": "code",
   "execution_count": 54,
   "metadata": {},
   "outputs": [
    {
     "name": "stderr",
     "output_type": "stream",
     "text": [
      "C:\\Users\\Dr CNB\\Documents\\Anaconda\\lib\\site-packages\\sklearn\\metrics\\classification.py:1145: UndefinedMetricWarning: Recall and F-score are ill-defined and being set to 0.0 in labels with no true samples.\n",
      "  'recall', 'true', average, warn_for)\n",
      "C:\\Users\\Dr CNB\\Documents\\Anaconda\\lib\\site-packages\\sklearn\\metrics\\classification.py:1145: UndefinedMetricWarning: Recall and F-score are ill-defined and being set to 0.0 in labels with no true samples.\n",
      "  'recall', 'true', average, warn_for)\n",
      "C:\\Users\\Dr CNB\\Documents\\Anaconda\\lib\\site-packages\\sklearn\\metrics\\classification.py:1145: UndefinedMetricWarning: Recall and F-score are ill-defined and being set to 0.0 in labels with no true samples.\n",
      "  'recall', 'true', average, warn_for)\n"
     ]
    }
   ],
   "source": [
    "cm_dt = confusion_matrix(y_test, y_pred_dt) # confusion matrix\n",
    "cm_rf = confusion_matrix(y_test, y_pred_rf) # confusion matrix\n",
    "\n",
    "cr_dt = classification_report(y_test, y_pred_dt) # classification report\n",
    "cr_rf = classification_report(y_test, y_pred_rf) # classification report"
   ]
  },
  {
   "cell_type": "code",
   "execution_count": 55,
   "metadata": {},
   "outputs": [],
   "source": [
    "import seaborn as sns"
   ]
  },
  {
   "cell_type": "code",
   "execution_count": 56,
   "metadata": {},
   "outputs": [
    {
     "data": {
      "image/png": "[encoded data removed]",
      "text/plain": [
       "<Figure size 432x288 with 1 Axes>"
      ]
     },
     "metadata": {},
     "output_type": "display_data"
    },
    {
     "data": {
      "image/png": "[encoded data removed]",
      "text/plain": [
       "<Figure size 432x288 with 1 Axes>"
      ]
     },
     "metadata": {},
     "output_type": "display_data"
    }
   ],
   "source": [
    "sns.heatmap(cm_dt,annot=True,cbar=None,cmap = 'cool')\n",
    "plt.title('Desicion Tree')\n",
    "plt.show()\n",
    "\n",
    "sns.heatmap(cm_rf,annot=True,cbar=None,cmap = 'autumn')\n",
    "plt.title('Random Forest')\n",
    "plt.show()\n"
   ]
  },
  {
   "cell_type": "code",
   "execution_count": 57,
   "metadata": {},
   "outputs": [
    {
     "name": "stdout",
     "output_type": "stream",
     "text": [
      "====================Desicion Tree====================\n",
      "              precision    recall  f1-score   support\n",
      "\n",
      "           3       0.00      0.00      0.00         0\n",
      "           7       0.73      1.00      0.84         8\n",
      "           8       0.50      0.20      0.29         5\n",
      "           9       0.83      0.71      0.77         7\n",
      "\n",
      "   micro avg       0.70      0.70      0.70        20\n",
      "   macro avg       0.52      0.48      0.47        20\n",
      "weighted avg       0.71      0.70      0.68        20\n",
      "\n",
      "====================Random Forest====================\n",
      "              precision    recall  f1-score   support\n",
      "\n",
      "           7       0.64      0.88      0.74         8\n",
      "           8       1.00      0.20      0.33         5\n",
      "           9       0.75      0.86      0.80         7\n",
      "\n",
      "   micro avg       0.70      0.70      0.70        20\n",
      "   macro avg       0.80      0.64      0.62        20\n",
      "weighted avg       0.77      0.70      0.66        20\n",
      "\n"
     ]
    }
   ],
   "source": [
    "print('='*20+'Desicion Tree'+'='*20)\n",
    "print(cr_dt)\n",
    "\n",
    "print('='*20+'Random Forest'+'='*20)\n",
    "print(cr_rf)"
   ]
  },
  {
   "cell_type": "code",
   "execution_count": null,
   "metadata": {},
   "outputs": [],
   "source": []
  }
 ],
 "metadata": {
  "kernelspec": {
   "display_name": "Python 3",
   "language": "python",
   "name": "python3"
  },
  "language_info": {
   "codemirror_mode": {
    "name": "ipython",
    "version": 3
   },
   "file_extension": ".py",
   "mimetype": "text/x-python",
   "name": "python",
   "nbconvert_exporter": "python",
   "pygments_lexer": "ipython3",
   "version": "3.6.8"
  }
 },
 "nbformat": 4,
 "nbformat_minor": 2
}
